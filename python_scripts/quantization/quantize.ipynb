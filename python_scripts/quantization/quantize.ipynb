{
 "cells": [
  {
   "cell_type": "code",
   "execution_count": null,
   "metadata": {},
   "outputs": [],
   "source": [
    "import numpy as np\n",
    "import tensorflow as tf\n",
    "from keras_quant_utils import gen_anchors, relu6, ssd_focal_loss\n",
    "import cv2\n",
    "import tqdm\n",
    "import os"
   ]
  },
  {
   "cell_type": "code",
   "execution_count": null,
   "metadata": {},
   "outputs": [],
   "source": [
    "DATASET_PATH = 'path/to/dataset'\n",
    "MODEL_PATH = 'path/to/keras/model'\n",
    "INPUT_SHAPE = (192,192,3)\n",
    "\n",
    "# default values for mobilenetv1 with alpha=0.25\n",
    "SCALE = 127.5\n",
    "OFFSET = -1\n",
    "\n",
    "model = tf.keras.models.load_model('MODEL_PATH',\n",
    "                                    custom_objects={\n",
    "                                       'gen_anchors': gen_anchors, \n",
    "                                       'relu6': relu6, \n",
    "                                       '_loss': ssd_focal_loss\n",
    "                                       })\n",
    "input_type = 'uint8'\n",
    "output_type = 'float32'"
   ]
  },
  {
   "cell_type": "code",
   "execution_count": null,
   "metadata": {},
   "outputs": [],
   "source": [
    "def representative_data_gen():\n",
    "    for image_file in tqdm.tqdm(os.listdir(DATASET_PATH)):\n",
    "        if image_file.endswith(\".jpg\"):\n",
    "            image = cv2.imread(os.path.join(DATASET_PATH, image_file))\n",
    "            if len(image.shape) != 3:\n",
    "                image = cv2.cvtColor(image, cv2.COLOR_GRAY2BGR)\n",
    "            image = cv2.cvtColor(image, cv2.COLOR_BGR2RGB)\n",
    "            resized_image = cv2.resize(image, (INPUT_SHAPE[0], INPUT_SHAPE[1]), interpolation=cv2.INTER_LINEAR)\n",
    "            image_data = resized_image/SCALE + OFFSET\n",
    "            img = image_data.astype(np.float32)\n",
    "            image_processed = np.expand_dims(img, 0)\n",
    "            yield [image_processed]"
   ]
  },
  {
   "cell_type": "code",
   "execution_count": null,
   "metadata": {},
   "outputs": [],
   "source": [
    "converter = tf.lite.TFLiteConverter.from_keras_model(model)\n",
    "\n",
    "if input_type == 'int8':\n",
    "    converter.inference_input_type = tf.int8\n",
    "elif input_type == 'uint8':\n",
    "    converter.inference_input_type = tf.uint8\n",
    "else:\n",
    "    pass\n",
    "\n",
    "if output_type == 'int8':\n",
    "    converter.inference_output_type = tf.int8\n",
    "elif output_type == 'uint8':\n",
    "    converter.inference_input_type = tf.uint8\n",
    "else:\n",
    "    pass\n",
    "\n",
    "converter.optimizations = [tf.lite.Optimize.DEFAULT]\n",
    "converter.representative_dataset = representative_data_gen\n",
    "\n",
    "tflite_model_quantized = converter.convert()\n",
    "output_filename = \"quantized_model.tflite\"\n",
    "with open(output_filename, 'wb') as f:\n",
    "    f.write(tflite_model_quantized)"
   ]
  }
 ],
 "metadata": {
  "kernelspec": {
   "display_name": "tf",
   "language": "python",
   "name": "python3"
  },
  "language_info": {
   "codemirror_mode": {
    "name": "ipython",
    "version": 3
   },
   "file_extension": ".py",
   "mimetype": "text/x-python",
   "name": "python",
   "nbconvert_exporter": "python",
   "pygments_lexer": "ipython3",
   "version": "3.10.11"
  },
  "orig_nbformat": 4
 },
 "nbformat": 4,
 "nbformat_minor": 2
}
